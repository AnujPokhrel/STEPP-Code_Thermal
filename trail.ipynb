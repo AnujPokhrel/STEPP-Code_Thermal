{
 "cells": [
  {
   "cell_type": "code",
   "execution_count": 19,
   "metadata": {},
   "outputs": [],
   "source": [
    "import pickle\n",
    "import os\n",
    "import numpy as np"
   ]
  },
  {
   "cell_type": "code",
   "execution_count": 2,
   "metadata": {},
   "outputs": [],
   "source": [
    "with open('/home/vader/RobotiXX/STEPP-Code_Thermal/STEPP/Data/Training_IR_Batch2/BL_2024-09-04_19-24-16_chunk0000_processed.pkl', 'rb') as f:\n",
    "    data = pickle.load(f)"
   ]
  },
  {
   "cell_type": "code",
   "execution_count": 4,
   "metadata": {},
   "outputs": [
    {
     "data": {
      "text/plain": [
       "dict_keys(['thermal_paths', 'thermal_timestamps', 'depth_paths', 'sparse_depth_paths', 'elevation_raw_paths', 'elevation_timestamps', 'elevation_image_paths', 'cmd_vel_msg', 'odom_1sec_msg', 'accel_msg', 'gyro_msg', 'time_stamp', 'roll_pitch_yaw', 'odom', 'odom_pose', 'imu_accel_1m', 'imu_gyro_1m', 'velocity_at_1m', 'traversability_mask_paths', 'traversability_footprint_paths', 'processed_gyro', 'processed_accel', 'roughness_score', 'processed_accel_1m', 'processed_gyro_1m', 'roughness_score_1m', 'sm_cmd_vel'])"
      ]
     },
     "execution_count": 4,
     "metadata": {},
     "output_type": "execute_result"
    }
   ],
   "source": [
    "data.keys()"
   ]
  },
  {
   "cell_type": "code",
   "execution_count": 18,
   "metadata": {},
   "outputs": [
    {
     "data": {
      "text/plain": [
       "(array([1.00032699e+00, 0.00000000e+00, 7.53132274e-04, 8.73411004e-01,\n",
       "        0.00000000e+00, 1.23647735e-04]),\n",
       " (627.0615724078108, -65.78755257992248))"
      ]
     },
     "execution_count": 18,
     "metadata": {},
     "output_type": "execute_result"
    }
   ],
   "source": [
    "data['odom'][15], data['odom_pose'][15]"
   ]
  },
  {
   "cell_type": "code",
   "execution_count": 5,
   "metadata": {},
   "outputs": [],
   "source": [
    "thermal_images = data['thermal_paths']"
   ]
  },
  {
   "cell_type": "code",
   "execution_count": 9,
   "metadata": {},
   "outputs": [],
   "source": [
    "aa = thermal_images[0]"
   ]
  },
  {
   "cell_type": "code",
   "execution_count": 11,
   "metadata": {},
   "outputs": [],
   "source": [
    "ROOT_DIR = 'home/vader/ROBOTIXX/'\n",
    "split = aa.split('/')\n",
    "thermal_images1 = os.path.join(ROOT_DIR, split[-2] , split[-1])"
   ]
  },
  {
   "cell_type": "code",
   "execution_count": 12,
   "metadata": {},
   "outputs": [
    {
     "data": {
      "text/plain": [
       "'home/vader/ROBOTIXX/thermal_BL_2024-09-04_19-24-16_chunk0000_processed/33.png'"
      ]
     },
     "execution_count": 12,
     "metadata": {},
     "output_type": "execute_result"
    }
   ],
   "source": [
    "thermal_images1"
   ]
  },
  {
   "cell_type": "code",
   "execution_count": 13,
   "metadata": {},
   "outputs": [],
   "source": [
    "file_path ='/home/vader/RobotiXX/STEPP-Code_Thermal/STEPP/Data/Training_IR_Batch2/BL_2024-09-04_19-24-16_chunk0000_processed.pkl' \n",
    "with open(file_path, \"rb\") as f:\n",
    "    data = pickle.load(f)\n"
   ]
  },
  {
   "cell_type": "code",
   "execution_count": 14,
   "metadata": {},
   "outputs": [],
   "source": [
    "original_odom_poses = data['odom_pose']"
   ]
  },
  {
   "cell_type": "code",
   "execution_count": 15,
   "metadata": {},
   "outputs": [
    {
     "name": "stdout",
     "output_type": "stream",
     "text": [
      "Example odom_pose element: (624.8621368482836, -67.33770722148854)\n",
      "  → type: <class 'tuple'> length: 2\n"
     ]
    }
   ],
   "source": [
    "print(\"Example odom_pose element:\", original_odom_poses[0])\n",
    "print(\"  → type:\", type(original_odom_poses[0]), \"length:\", len(original_odom_poses[0]))\n"
   ]
  },
  {
   "cell_type": "code",
   "execution_count": 21,
   "metadata": {},
   "outputs": [],
   "source": [
    "timestamps = data['time_stamp']\n",
    "xy_list     = data['odom_pose']\n",
    "rpy_list    = data['roll_pitch_yaw']"
   ]
  },
  {
   "cell_type": "code",
   "execution_count": 31,
   "metadata": {},
   "outputs": [
    {
     "data": {
      "text/plain": [
       "(624.8621368482836, -67.33770722148854)"
      ]
     },
     "execution_count": 31,
     "metadata": {},
     "output_type": "execute_result"
    }
   ],
   "source": [
    "xy_list[0]"
   ]
  },
  {
   "cell_type": "code",
   "execution_count": 32,
   "metadata": {},
   "outputs": [],
   "source": [
    "original_odom_poses = []\n",
    "for ts, (x, y) in zip(timestamps, xy_list):\n",
    "    # convert RPY → quaternion\n",
    "    original_odom_poses.append({\n",
    "        'timestamp': ts,\n",
    "        'x':          x,\n",
    "        'y':          y,\n",
    "    })"
   ]
  },
  {
   "cell_type": "code",
   "execution_count": 35,
   "metadata": {},
   "outputs": [
    {
     "data": {
      "text/plain": [
       "1725492260.3058786"
      ]
     },
     "execution_count": 35,
     "metadata": {},
     "output_type": "execute_result"
    }
   ],
   "source": [
    "original_odom_poses[0]['timestamp']"
   ]
  },
  {
   "cell_type": "code",
   "execution_count": 36,
   "metadata": {},
   "outputs": [
    {
     "data": {
      "text/plain": [
       "dict_keys(['thermal_paths', 'thermal_timestamps', 'depth_paths', 'sparse_depth_paths', 'elevation_raw_paths', 'elevation_timestamps', 'elevation_image_paths', 'cmd_vel_msg', 'odom_1sec_msg', 'accel_msg', 'gyro_msg', 'time_stamp', 'roll_pitch_yaw', 'odom', 'odom_pose', 'imu_accel_1m', 'imu_gyro_1m', 'velocity_at_1m', 'traversability_mask_paths', 'traversability_footprint_paths', 'processed_gyro', 'processed_accel', 'roughness_score', 'processed_accel_1m', 'processed_gyro_1m', 'roughness_score_1m', 'sm_cmd_vel'])"
      ]
     },
     "execution_count": 36,
     "metadata": {},
     "output_type": "execute_result"
    }
   ],
   "source": [
    "data.keys()"
   ]
  },
  {
   "cell_type": "code",
   "execution_count": 55,
   "metadata": {},
   "outputs": [
    {
     "data": {
      "text/plain": [
       "(72, 72)"
      ]
     },
     "execution_count": 56,
     "metadata": {},
     "output_type": "execute_result"
    }
   ],
   "source": [
    "data."
   ]
  },
  {
   "cell_type": "code",
   "execution_count": 1,
   "metadata": {},
   "outputs": [],
   "source": [
    "import numpy as np"
   ]
  },
  {
   "cell_type": "code",
   "execution_count": 25,
   "metadata": {},
   "outputs": [
    {
     "name": "stdout",
     "output_type": "stream",
     "text": [
      "arr.shape = (2191, 384)\n",
      "arr.dtype = dtype('float64')\n"
     ]
    }
   ],
   "source": [
    "arr = np.load('/home/vader/RobotiXX/STEPP-Code_Thermal/STEPP/Data/Dataset/BL_2024-09-04_19-12-16_0.npy')\n",
    "print(f\"{arr.shape = }\")\n",
    "print(f\"{arr.dtype = }\")\n",
    "# 3. Stats\n",
    "print(\"Min / Max / Mean:\", arr.min(), arr.max(), arr.mean())\n",
    "print(\"NaNs present?\", np.isnan(arr).sum())\n",
    "\n",
    "# 4. Peek at a few entries\n",
    "print(\"First 5 rows:\\n\", arr[:5])\n",
    "\n",
    "print(f\"{arr.shape = }\")\n",
    "print(f\"{arr.dtype = }\")"
   ]
  },
  {
   "cell_type": "code",
   "execution_count": 27,
   "metadata": {},
   "outputs": [],
   "source": []
  },
  {
   "cell_type": "code",
   "execution_count": 28,
   "metadata": {},
   "outputs": [
    {
     "name": "stdout",
     "output_type": "stream",
     "text": [
      "Min / Max / Mean: -15.00390625 19.26116180419922 0.0627841741729279\n",
      "NaNs present? 0\n",
      "First 5 rows:\n",
      " [[ -2.46687841   2.3515625    1.17313647 ...   0.24760437   4.96451855\n",
      "   -0.2654826 ]\n",
      " [ -2.89685059 -10.48925781   0.7842865  ...  -4.42456055   2.58862305\n",
      "   -1.98193359]\n",
      " [ -3.76199794  -5.44140673   0.8538121  ...  -3.54185295   2.75837064\n",
      "    2.15346003]\n",
      " [ -0.22513908 -12.50334835  -0.35144046 ...  -4.16489983  -0.34997562\n",
      "   -4.25892878]\n",
      " [ -3.95556641  -2.82836914   0.86907959 ...  -2.76318359   2.9609375\n",
      "    1.6161499 ]]\n"
     ]
    }
   ],
   "source": [
    "# 3. Stats\n",
    "print(\"Min / Max / Mean:\", arr.min(), arr.max(), arr.mean())\n",
    "print(\"NaNs present?\", np.isnan(arr).sum())\n",
    "\n",
    "# 4. Peek at a few entries\n",
    "print(\"First 5 rows:\\n\", arr[:5])"
   ]
  },
  {
   "cell_type": "code",
   "execution_count": 12,
   "metadata": {},
   "outputs": [
    {
     "name": "stdout",
     "output_type": "stream",
     "text": [
      "Number of samples with ≥1 NaN: 0\n",
      "Sample indices with NaNs: []\n",
      "Number of feature dims with ≥1 NaN: 0\n",
      "Feature indices with NaNs: []\n"
     ]
    },
    {
     "ename": "IndexError",
     "evalue": "index 0 is out of bounds for axis 0 with size 0",
     "output_type": "error",
     "traceback": [
      "\u001b[0;31m---------------------------------------------------------------------------\u001b[0m",
      "\u001b[0;31mIndexError\u001b[0m                                Traceback (most recent call last)",
      "Cell \u001b[0;32mIn[12], line 12\u001b[0m\n\u001b[1;32m      9\u001b[0m \u001b[38;5;28mprint\u001b[39m(\u001b[38;5;124m\"\u001b[39m\u001b[38;5;124mFeature indices with NaNs:\u001b[39m\u001b[38;5;124m\"\u001b[39m, np\u001b[38;5;241m.\u001b[39mwhere(nan_cols)[\u001b[38;5;241m0\u001b[39m])\n\u001b[1;32m     11\u001b[0m \u001b[38;5;66;03m# 3. Inspect one offending row\u001b[39;00m\n\u001b[0;32m---> 12\u001b[0m idx \u001b[38;5;241m=\u001b[39m \u001b[43mnp\u001b[49m\u001b[38;5;241;43m.\u001b[39;49m\u001b[43mwhere\u001b[49m\u001b[43m(\u001b[49m\u001b[43mnan_rows\u001b[49m\u001b[43m)\u001b[49m\u001b[43m[\u001b[49m\u001b[38;5;241;43m0\u001b[39;49m\u001b[43m]\u001b[49m\u001b[43m[\u001b[49m\u001b[38;5;241;43m0\u001b[39;49m\u001b[43m]\u001b[49m\n\u001b[1;32m     13\u001b[0m \u001b[38;5;28mprint\u001b[39m(\u001b[38;5;124m\"\u001b[39m\u001b[38;5;124mRow\u001b[39m\u001b[38;5;124m\"\u001b[39m, idx, \u001b[38;5;124m\"\u001b[39m\u001b[38;5;124mhas NaNs at dims:\u001b[39m\u001b[38;5;124m\"\u001b[39m, np\u001b[38;5;241m.\u001b[39mwhere(np\u001b[38;5;241m.\u001b[39misnan(arr[idx]))[\u001b[38;5;241m0\u001b[39m])\n\u001b[1;32m     14\u001b[0m \u001b[38;5;28mprint\u001b[39m(\u001b[38;5;124m\"\u001b[39m\u001b[38;5;124mValues:\u001b[39m\u001b[38;5;124m\"\u001b[39m, arr[idx])\n",
      "\u001b[0;31mIndexError\u001b[0m: index 0 is out of bounds for axis 0 with size 0"
     ]
    }
   ],
   "source": [
    "\n",
    "# 1. Which rows have *any* NaN?\n",
    "nan_rows = np.isnan(arr).any(axis=1)\n",
    "print(\"Number of samples with ≥1 NaN:\", nan_rows.sum())\n",
    "print(\"Sample indices with NaNs:\", np.where(nan_rows)[0])\n",
    "\n",
    "# 2. Which feature‐dimensions have *any* NaN?\n",
    "nan_cols = np.isnan(arr).any(axis=0)\n",
    "print(\"Number of feature dims with ≥1 NaN:\", nan_cols.sum())\n",
    "print(\"Feature indices with NaNs:\", np.where(nan_cols)[0])\n",
    "\n",
    "# 3. Inspect one offending row\n",
    "idx = np.where(nan_rows)[0][0]\n",
    "print(\"Row\", idx, \"has NaNs at dims:\", np.where(np.isnan(arr[idx]))[0])\n",
    "print(\"Values:\", arr[idx])\n",
    "\n",
    "# 4. Drop all NaN‐rows (if you’d rather)\n",
    "clean = arr[~nan_rows]\n",
    "print(\"Shape after dropping NaN‐rows:\", clean.shape)"
   ]
  },
  {
   "cell_type": "code",
   "execution_count": null,
   "metadata": {},
   "outputs": [],
   "source": []
  }
 ],
 "metadata": {
  "kernelspec": {
   "display_name": "STEPP",
   "language": "python",
   "name": "python3"
  },
  "language_info": {
   "codemirror_mode": {
    "name": "ipython",
    "version": 3
   },
   "file_extension": ".py",
   "mimetype": "text/x-python",
   "name": "python",
   "nbconvert_exporter": "python",
   "pygments_lexer": "ipython3",
   "version": "3.8.20"
  }
 },
 "nbformat": 4,
 "nbformat_minor": 2
}
